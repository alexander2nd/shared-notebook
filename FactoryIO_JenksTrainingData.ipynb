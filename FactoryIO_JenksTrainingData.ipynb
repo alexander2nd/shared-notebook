{
 "cells": [
  {
   "cell_type": "code",
   "execution_count": 1,
   "metadata": {},
   "outputs": [],
   "source": [
    "%matplotlib inline\n",
    "import pandas as pd\n",
    "import matplotlib.pyplot as plt"
   ]
  },
  {
   "cell_type": "markdown",
   "metadata": {},
   "source": [
    "<h3 style=\"color:green;\">SCREENSHOT OF RUNNING SCENE IN FACTORY IO</h3>\n",
    "<p>Factory I/O is a 3D factory simulation for learning automation technologies. Designed to be easy to use, it allows to quickly build a virtual factory using a selection of common industrial parts.\n",
    "\n",
    "Factory I/O also includes many scenes inspired by typical industrial applications, ranging from beginner to advanced difficulty levels.\n",
    "\n",
    "The most common scenario is to use Factory I/O as a PLC training platform since PLC are the most common controllers found in industrial applications. However, it can also be used with microcontrollers, SoftPLC, Modbus, among many other technologies.</p>\n",
    "\n",
    "<a href=\"url\">https://factoryio.com/</a>"
   ]
  },
  {
   "cell_type": "markdown",
   "metadata": {},
   "source": [
    "![title](images/Conveyor.PNG)"
   ]
  },
  {
   "cell_type": "markdown",
   "metadata": {},
   "source": [
    "<h3 style=\"color:green;\">SCREENSHOT OF CONTROL IO CONFIGURATOR</h3>\n",
    "<p>CONTROL I/O is an easy to use, brand independent SoftPLC, designed from the ground up for FACTORY I/O.<br> The goal of CONTROL I/O is to provide a simple and intuitive experience for anyone starting in the world of automation.</p>\n",
    "<a href=\"url\">https://docs.factoryio.com</a>"
   ]
  },
  {
   "cell_type": "markdown",
   "metadata": {},
   "source": [
    "![title](images/Control_IO.PNG)"
   ]
  },
  {
   "cell_type": "markdown",
   "metadata": {},
   "source": [
    "<h3 style=\"color:green;\">Finding the ideal range of time between boxes using idealistic data<h3>\n",
    "<p style=\"font-weight: normal;\">Using exported tags from Factory IO to determine optimal working parameters for conveyor.</p>\n"
   ]
  },
  {
   "cell_type": "code",
   "execution_count": 2,
   "metadata": {},
   "outputs": [],
   "source": [
    "#Importing the csv file created in factory io\n",
    "#File currently contains 6 Columns and 682,211 Rows\n",
    "data = pd.read_csv('data/normal.zip')\n",
    "df = pd.DataFrame(data)"
   ]
  },
  {
   "cell_type": "code",
   "execution_count": 3,
   "metadata": {},
   "outputs": [
    {
     "name": "stdout",
     "output_type": "stream",
     "text": [
      "File Name                                             Modified             Size\n",
      "normal.csv                                     2021-03-24 15:46:14     16987297\n"
     ]
    }
   ],
   "source": [
    "#Importing the csv file from factory io\n",
    "\n",
    "#Commenting out block of code for local machine usage\n",
    "#data = pd.read_csv('C:/Users/a.sethu/Desktop/Python/normal.csv')\n",
    "#df = pd.DataFrame(data)\n",
    "\n",
    "#Importing the csv file created in factory io\n",
    "#File currently contains 6 Columns and 682,211 Rows\n",
    "import zipfile\n",
    "from zipfile import ZipFile\n",
    "file_name = \"data/normal.zip\"\n",
    "with ZipFile(file_name, 'r') as zip:\n",
    "    # printing all the contents of the zip file\n",
    "    zip.printdir()"
   ]
  },
  {
   "cell_type": "markdown",
   "metadata": {},
   "source": [
    "<h3 style=\"color:green;\">ISOLATING RELEVANT TAG DATA.<h3>\n",
    "<p style=\"font-weight: normal;\">For our purposes we only require the sensor data specific to the light array emitter.</p>\n"
   ]
  },
  {
   "cell_type": "code",
   "execution_count": 4,
   "metadata": {},
   "outputs": [],
   "source": [
    "#Subseting all Light Array Emitter data\n",
    "filteredLAE = df[df[' Name']=='Light Array Emitter 1 (Value)']\n",
    "#using a copy to prevent index warning\n",
    "filteredLAE = filteredLAE.copy()\n",
    "#converting the current value column to numeric\n",
    "filteredLAE[' Current Value'] = pd.to_numeric(filteredLAE[' Current Value'])"
   ]
  },
  {
   "cell_type": "code",
   "execution_count": 5,
   "metadata": {},
   "outputs": [
    {
     "data": {
      "text/html": [
       "<div>\n",
       "<style scoped>\n",
       "    .dataframe tbody tr th:only-of-type {\n",
       "        vertical-align: middle;\n",
       "    }\n",
       "\n",
       "    .dataframe tbody tr th {\n",
       "        vertical-align: top;\n",
       "    }\n",
       "\n",
       "    .dataframe thead th {\n",
       "        text-align: right;\n",
       "    }\n",
       "</style>\n",
       "<table border=\"1\" class=\"dataframe\">\n",
       "  <thead>\n",
       "    <tr style=\"text-align: right;\">\n",
       "      <th></th>\n",
       "      <th>Sensor/Actuator</th>\n",
       "      <th>Data Type</th>\n",
       "      <th>Name</th>\n",
       "      <th>Address</th>\n",
       "      <th>Current Value</th>\n",
       "      <th>Time Elapsed</th>\n",
       "      <th>Sensor Value Difference</th>\n",
       "    </tr>\n",
       "  </thead>\n",
       "  <tbody>\n",
       "    <tr>\n",
       "      <th>5</th>\n",
       "      <td>Sensor</td>\n",
       "      <td>Int</td>\n",
       "      <td>Light Array Emitter 1 (Value)</td>\n",
       "      <td>0</td>\n",
       "      <td>0</td>\n",
       "      <td>5.758350</td>\n",
       "      <td>NaN</td>\n",
       "    </tr>\n",
       "    <tr>\n",
       "      <th>20</th>\n",
       "      <td>Sensor</td>\n",
       "      <td>Int</td>\n",
       "      <td>Light Array Emitter 1 (Value)</td>\n",
       "      <td>0</td>\n",
       "      <td>0</td>\n",
       "      <td>5.841684</td>\n",
       "      <td>0.0</td>\n",
       "    </tr>\n",
       "    <tr>\n",
       "      <th>35</th>\n",
       "      <td>Sensor</td>\n",
       "      <td>Int</td>\n",
       "      <td>Light Array Emitter 1 (Value)</td>\n",
       "      <td>0</td>\n",
       "      <td>0</td>\n",
       "      <td>5.941685</td>\n",
       "      <td>0.0</td>\n",
       "    </tr>\n",
       "    <tr>\n",
       "      <th>50</th>\n",
       "      <td>Sensor</td>\n",
       "      <td>Int</td>\n",
       "      <td>Light Array Emitter 1 (Value)</td>\n",
       "      <td>0</td>\n",
       "      <td>0</td>\n",
       "      <td>6.033353</td>\n",
       "      <td>0.0</td>\n",
       "    </tr>\n",
       "    <tr>\n",
       "      <th>65</th>\n",
       "      <td>Sensor</td>\n",
       "      <td>Int</td>\n",
       "      <td>Light Array Emitter 1 (Value)</td>\n",
       "      <td>0</td>\n",
       "      <td>0</td>\n",
       "      <td>6.133354</td>\n",
       "      <td>0.0</td>\n",
       "    </tr>\n",
       "    <tr>\n",
       "      <th>...</th>\n",
       "      <td>...</td>\n",
       "      <td>...</td>\n",
       "      <td>...</td>\n",
       "      <td>...</td>\n",
       "      <td>...</td>\n",
       "      <td>...</td>\n",
       "      <td>...</td>\n",
       "    </tr>\n",
       "    <tr>\n",
       "      <th>316670</th>\n",
       "      <td>Sensor</td>\n",
       "      <td>Int</td>\n",
       "      <td>Light Array Emitter 1 (Value)</td>\n",
       "      <td>0</td>\n",
       "      <td>0</td>\n",
       "      <td>2119.183000</td>\n",
       "      <td>0.0</td>\n",
       "    </tr>\n",
       "    <tr>\n",
       "      <th>316685</th>\n",
       "      <td>Sensor</td>\n",
       "      <td>Int</td>\n",
       "      <td>Light Array Emitter 1 (Value)</td>\n",
       "      <td>0</td>\n",
       "      <td>0</td>\n",
       "      <td>2119.274000</td>\n",
       "      <td>0.0</td>\n",
       "    </tr>\n",
       "    <tr>\n",
       "      <th>316700</th>\n",
       "      <td>Sensor</td>\n",
       "      <td>Int</td>\n",
       "      <td>Light Array Emitter 1 (Value)</td>\n",
       "      <td>0</td>\n",
       "      <td>0</td>\n",
       "      <td>2119.390000</td>\n",
       "      <td>0.0</td>\n",
       "    </tr>\n",
       "    <tr>\n",
       "      <th>316715</th>\n",
       "      <td>Sensor</td>\n",
       "      <td>Int</td>\n",
       "      <td>Light Array Emitter 1 (Value)</td>\n",
       "      <td>0</td>\n",
       "      <td>0</td>\n",
       "      <td>2119.482000</td>\n",
       "      <td>0.0</td>\n",
       "    </tr>\n",
       "    <tr>\n",
       "      <th>316730</th>\n",
       "      <td>Sensor</td>\n",
       "      <td>Int</td>\n",
       "      <td>Light Array Emitter 1 (Value)</td>\n",
       "      <td>0</td>\n",
       "      <td>0</td>\n",
       "      <td>2119.581000</td>\n",
       "      <td>0.0</td>\n",
       "    </tr>\n",
       "  </tbody>\n",
       "</table>\n",
       "<p>21116 rows × 7 columns</p>\n",
       "</div>"
      ],
      "text/plain": [
       "       Sensor/Actuator  Data Type                           Name   Address  \\\n",
       "5               Sensor        Int  Light Array Emitter 1 (Value)         0   \n",
       "20              Sensor        Int  Light Array Emitter 1 (Value)         0   \n",
       "35              Sensor        Int  Light Array Emitter 1 (Value)         0   \n",
       "50              Sensor        Int  Light Array Emitter 1 (Value)         0   \n",
       "65              Sensor        Int  Light Array Emitter 1 (Value)         0   \n",
       "...                ...        ...                            ...       ...   \n",
       "316670          Sensor        Int  Light Array Emitter 1 (Value)         0   \n",
       "316685          Sensor        Int  Light Array Emitter 1 (Value)         0   \n",
       "316700          Sensor        Int  Light Array Emitter 1 (Value)         0   \n",
       "316715          Sensor        Int  Light Array Emitter 1 (Value)         0   \n",
       "316730          Sensor        Int  Light Array Emitter 1 (Value)         0   \n",
       "\n",
       "         Current Value   Time Elapsed   Sensor Value Difference  \n",
       "5                    0       5.758350                       NaN  \n",
       "20                   0       5.841684                       0.0  \n",
       "35                   0       5.941685                       0.0  \n",
       "50                   0       6.033353                       0.0  \n",
       "65                   0       6.133354                       0.0  \n",
       "...                ...            ...                       ...  \n",
       "316670               0    2119.183000                       0.0  \n",
       "316685               0    2119.274000                       0.0  \n",
       "316700               0    2119.390000                       0.0  \n",
       "316715               0    2119.482000                       0.0  \n",
       "316730               0    2119.581000                       0.0  \n",
       "\n",
       "[21116 rows x 7 columns]"
      ]
     },
     "execution_count": 5,
     "metadata": {},
     "output_type": "execute_result"
    }
   ],
   "source": [
    "#using a copy to prevent index warning\n",
    "filteredLAE = filteredLAE.copy()\n",
    "filteredLAE[' Sensor Value Difference'] = filteredLAE[' Current Value'].diff()\n",
    "filteredLAE"
   ]
  },
  {
   "cell_type": "code",
   "execution_count": 6,
   "metadata": {},
   "outputs": [
    {
     "data": {
      "text/html": [
       "<div>\n",
       "<style scoped>\n",
       "    .dataframe tbody tr th:only-of-type {\n",
       "        vertical-align: middle;\n",
       "    }\n",
       "\n",
       "    .dataframe tbody tr th {\n",
       "        vertical-align: top;\n",
       "    }\n",
       "\n",
       "    .dataframe thead th {\n",
       "        text-align: right;\n",
       "    }\n",
       "</style>\n",
       "<table border=\"1\" class=\"dataframe\">\n",
       "  <thead>\n",
       "    <tr style=\"text-align: right;\">\n",
       "      <th></th>\n",
       "      <th>Sensor/Actuator</th>\n",
       "      <th>Data Type</th>\n",
       "      <th>Name</th>\n",
       "      <th>Address</th>\n",
       "      <th>Current Value</th>\n",
       "      <th>Time Elapsed</th>\n",
       "      <th>Sensor Value Difference</th>\n",
       "    </tr>\n",
       "  </thead>\n",
       "  <tbody>\n",
       "    <tr>\n",
       "      <th>1775</th>\n",
       "      <td>Sensor</td>\n",
       "      <td>Int</td>\n",
       "      <td>Light Array Emitter 1 (Value)</td>\n",
       "      <td>0</td>\n",
       "      <td>192</td>\n",
       "      <td>17.54989</td>\n",
       "      <td>192.0</td>\n",
       "    </tr>\n",
       "    <tr>\n",
       "      <th>2105</th>\n",
       "      <td>Sensor</td>\n",
       "      <td>Int</td>\n",
       "      <td>Light Array Emitter 1 (Value)</td>\n",
       "      <td>0</td>\n",
       "      <td>0</td>\n",
       "      <td>19.74986</td>\n",
       "      <td>-192.0</td>\n",
       "    </tr>\n",
       "    <tr>\n",
       "      <th>2375</th>\n",
       "      <td>Sensor</td>\n",
       "      <td>Int</td>\n",
       "      <td>Light Array Emitter 1 (Value)</td>\n",
       "      <td>0</td>\n",
       "      <td>192</td>\n",
       "      <td>21.54983</td>\n",
       "      <td>192.0</td>\n",
       "    </tr>\n",
       "    <tr>\n",
       "      <th>2705</th>\n",
       "      <td>Sensor</td>\n",
       "      <td>Int</td>\n",
       "      <td>Light Array Emitter 1 (Value)</td>\n",
       "      <td>0</td>\n",
       "      <td>0</td>\n",
       "      <td>23.74980</td>\n",
       "      <td>-192.0</td>\n",
       "    </tr>\n",
       "    <tr>\n",
       "      <th>3065</th>\n",
       "      <td>Sensor</td>\n",
       "      <td>Int</td>\n",
       "      <td>Light Array Emitter 1 (Value)</td>\n",
       "      <td>0</td>\n",
       "      <td>192</td>\n",
       "      <td>26.14976</td>\n",
       "      <td>192.0</td>\n",
       "    </tr>\n",
       "    <tr>\n",
       "      <th>...</th>\n",
       "      <td>...</td>\n",
       "      <td>...</td>\n",
       "      <td>...</td>\n",
       "      <td>...</td>\n",
       "      <td>...</td>\n",
       "      <td>...</td>\n",
       "      <td>...</td>\n",
       "    </tr>\n",
       "    <tr>\n",
       "      <th>314600</th>\n",
       "      <td>Sensor</td>\n",
       "      <td>Int</td>\n",
       "      <td>Light Array Emitter 1 (Value)</td>\n",
       "      <td>0</td>\n",
       "      <td>0</td>\n",
       "      <td>2105.44500</td>\n",
       "      <td>-192.0</td>\n",
       "    </tr>\n",
       "    <tr>\n",
       "      <th>315350</th>\n",
       "      <td>Sensor</td>\n",
       "      <td>Int</td>\n",
       "      <td>Light Array Emitter 1 (Value)</td>\n",
       "      <td>0</td>\n",
       "      <td>192</td>\n",
       "      <td>2110.41700</td>\n",
       "      <td>192.0</td>\n",
       "    </tr>\n",
       "    <tr>\n",
       "      <th>315665</th>\n",
       "      <td>Sensor</td>\n",
       "      <td>Int</td>\n",
       "      <td>Light Array Emitter 1 (Value)</td>\n",
       "      <td>0</td>\n",
       "      <td>0</td>\n",
       "      <td>2112.51700</td>\n",
       "      <td>-192.0</td>\n",
       "    </tr>\n",
       "    <tr>\n",
       "      <th>316040</th>\n",
       "      <td>Sensor</td>\n",
       "      <td>Int</td>\n",
       "      <td>Light Array Emitter 1 (Value)</td>\n",
       "      <td>0</td>\n",
       "      <td>192</td>\n",
       "      <td>2114.99900</td>\n",
       "      <td>192.0</td>\n",
       "    </tr>\n",
       "    <tr>\n",
       "      <th>316370</th>\n",
       "      <td>Sensor</td>\n",
       "      <td>Int</td>\n",
       "      <td>Light Array Emitter 1 (Value)</td>\n",
       "      <td>0</td>\n",
       "      <td>0</td>\n",
       "      <td>2117.19900</td>\n",
       "      <td>-192.0</td>\n",
       "    </tr>\n",
       "  </tbody>\n",
       "</table>\n",
       "<p>802 rows × 7 columns</p>\n",
       "</div>"
      ],
      "text/plain": [
       "       Sensor/Actuator  Data Type                           Name   Address  \\\n",
       "1775            Sensor        Int  Light Array Emitter 1 (Value)         0   \n",
       "2105            Sensor        Int  Light Array Emitter 1 (Value)         0   \n",
       "2375            Sensor        Int  Light Array Emitter 1 (Value)         0   \n",
       "2705            Sensor        Int  Light Array Emitter 1 (Value)         0   \n",
       "3065            Sensor        Int  Light Array Emitter 1 (Value)         0   \n",
       "...                ...        ...                            ...       ...   \n",
       "314600          Sensor        Int  Light Array Emitter 1 (Value)         0   \n",
       "315350          Sensor        Int  Light Array Emitter 1 (Value)         0   \n",
       "315665          Sensor        Int  Light Array Emitter 1 (Value)         0   \n",
       "316040          Sensor        Int  Light Array Emitter 1 (Value)         0   \n",
       "316370          Sensor        Int  Light Array Emitter 1 (Value)         0   \n",
       "\n",
       "         Current Value   Time Elapsed   Sensor Value Difference  \n",
       "1775               192       17.54989                     192.0  \n",
       "2105                 0       19.74986                    -192.0  \n",
       "2375               192       21.54983                     192.0  \n",
       "2705                 0       23.74980                    -192.0  \n",
       "3065               192       26.14976                     192.0  \n",
       "...                ...            ...                       ...  \n",
       "314600               0     2105.44500                    -192.0  \n",
       "315350             192     2110.41700                     192.0  \n",
       "315665               0     2112.51700                    -192.0  \n",
       "316040             192     2114.99900                     192.0  \n",
       "316370               0     2117.19900                    -192.0  \n",
       "\n",
       "[802 rows x 7 columns]"
      ]
     },
     "execution_count": 6,
     "metadata": {},
     "output_type": "execute_result"
    }
   ],
   "source": [
    "#Filtering sensor trigger data points from the data by removing \n",
    "#all all data with current value = 0\n",
    "filteredLAE = filteredLAE[filteredLAE[' Sensor Value Difference'] != 0]\n",
    "filteredLAE = filteredLAE[filteredLAE[' Current Value']!=128 ]\n",
    "filteredLAE = filteredLAE[filteredLAE[' Current Value']!=64 ]\n",
    "#Dropping al NaN values\n",
    "filteredLAE.dropna(subset = [' Sensor Value Difference'], inplace=True)\n",
    "filteredLAE"
   ]
  },
  {
   "cell_type": "code",
   "execution_count": 7,
   "metadata": {},
   "outputs": [],
   "source": [
    "filteredLAE[filteredLAE[' Sensor Value Difference'] > 0]\n",
    "filteredLAE['Trigger Status']=\"Off\"\n",
    "filteredLAE['Trigger Status'] = filteredLAE.apply(lambda x: 'On' if x[' Sensor Value Difference']>0 else 'Off',axis=1)"
   ]
  },
  {
   "cell_type": "code",
   "execution_count": 8,
   "metadata": {},
   "outputs": [],
   "source": [
    "filteredLAE['Trigger Interval'] = filteredLAE[\" Time Elapsed\"].diff(1)"
   ]
  },
  {
   "cell_type": "code",
   "execution_count": 9,
   "metadata": {},
   "outputs": [],
   "source": [
    "preprocessedDF = filteredLAE[filteredLAE['Trigger Status']=='On']"
   ]
  },
  {
   "cell_type": "code",
   "execution_count": 10,
   "metadata": {},
   "outputs": [
    {
     "data": {
      "text/html": [
       "<div>\n",
       "<style scoped>\n",
       "    .dataframe tbody tr th:only-of-type {\n",
       "        vertical-align: middle;\n",
       "    }\n",
       "\n",
       "    .dataframe tbody tr th {\n",
       "        vertical-align: top;\n",
       "    }\n",
       "\n",
       "    .dataframe thead th {\n",
       "        text-align: right;\n",
       "    }\n",
       "</style>\n",
       "<table border=\"1\" class=\"dataframe\">\n",
       "  <thead>\n",
       "    <tr style=\"text-align: right;\">\n",
       "      <th></th>\n",
       "      <th>Sensor/Actuator</th>\n",
       "      <th>Data Type</th>\n",
       "      <th>Name</th>\n",
       "      <th>Address</th>\n",
       "      <th>Current Value</th>\n",
       "      <th>Time Elapsed</th>\n",
       "      <th>Sensor Value Difference</th>\n",
       "      <th>Trigger Status</th>\n",
       "      <th>Trigger Interval</th>\n",
       "    </tr>\n",
       "  </thead>\n",
       "  <tbody>\n",
       "    <tr>\n",
       "      <th>2375</th>\n",
       "      <td>Sensor</td>\n",
       "      <td>Int</td>\n",
       "      <td>Light Array Emitter 1 (Value)</td>\n",
       "      <td>0</td>\n",
       "      <td>192</td>\n",
       "      <td>21.54983</td>\n",
       "      <td>192.0</td>\n",
       "      <td>On</td>\n",
       "      <td>3.99994</td>\n",
       "    </tr>\n",
       "    <tr>\n",
       "      <th>3065</th>\n",
       "      <td>Sensor</td>\n",
       "      <td>Int</td>\n",
       "      <td>Light Array Emitter 1 (Value)</td>\n",
       "      <td>0</td>\n",
       "      <td>192</td>\n",
       "      <td>26.14976</td>\n",
       "      <td>192.0</td>\n",
       "      <td>On</td>\n",
       "      <td>4.59993</td>\n",
       "    </tr>\n",
       "    <tr>\n",
       "      <th>3605</th>\n",
       "      <td>Sensor</td>\n",
       "      <td>Int</td>\n",
       "      <td>Light Array Emitter 1 (Value)</td>\n",
       "      <td>0</td>\n",
       "      <td>192</td>\n",
       "      <td>29.74137</td>\n",
       "      <td>192.0</td>\n",
       "      <td>On</td>\n",
       "      <td>3.59161</td>\n",
       "    </tr>\n",
       "    <tr>\n",
       "      <th>4640</th>\n",
       "      <td>Sensor</td>\n",
       "      <td>Int</td>\n",
       "      <td>Light Array Emitter 1 (Value)</td>\n",
       "      <td>0</td>\n",
       "      <td>192</td>\n",
       "      <td>36.64146</td>\n",
       "      <td>192.0</td>\n",
       "      <td>On</td>\n",
       "      <td>6.90009</td>\n",
       "    </tr>\n",
       "    <tr>\n",
       "      <th>5465</th>\n",
       "      <td>Sensor</td>\n",
       "      <td>Int</td>\n",
       "      <td>Light Array Emitter 1 (Value)</td>\n",
       "      <td>0</td>\n",
       "      <td>192</td>\n",
       "      <td>42.13330</td>\n",
       "      <td>192.0</td>\n",
       "      <td>On</td>\n",
       "      <td>5.49184</td>\n",
       "    </tr>\n",
       "    <tr>\n",
       "      <th>...</th>\n",
       "      <td>...</td>\n",
       "      <td>...</td>\n",
       "      <td>...</td>\n",
       "      <td>...</td>\n",
       "      <td>...</td>\n",
       "      <td>...</td>\n",
       "      <td>...</td>\n",
       "      <td>...</td>\n",
       "      <td>...</td>\n",
       "    </tr>\n",
       "    <tr>\n",
       "      <th>312590</th>\n",
       "      <td>Sensor</td>\n",
       "      <td>Int</td>\n",
       "      <td>Light Array Emitter 1 (Value)</td>\n",
       "      <td>0</td>\n",
       "      <td>192</td>\n",
       "      <td>2092.08900</td>\n",
       "      <td>192.0</td>\n",
       "      <td>On</td>\n",
       "      <td>3.57800</td>\n",
       "    </tr>\n",
       "    <tr>\n",
       "      <th>313595</th>\n",
       "      <td>Sensor</td>\n",
       "      <td>Int</td>\n",
       "      <td>Light Array Emitter 1 (Value)</td>\n",
       "      <td>0</td>\n",
       "      <td>192</td>\n",
       "      <td>2098.76300</td>\n",
       "      <td>192.0</td>\n",
       "      <td>On</td>\n",
       "      <td>6.67400</td>\n",
       "    </tr>\n",
       "    <tr>\n",
       "      <th>314270</th>\n",
       "      <td>Sensor</td>\n",
       "      <td>Int</td>\n",
       "      <td>Light Array Emitter 1 (Value)</td>\n",
       "      <td>0</td>\n",
       "      <td>192</td>\n",
       "      <td>2103.25300</td>\n",
       "      <td>192.0</td>\n",
       "      <td>On</td>\n",
       "      <td>4.49000</td>\n",
       "    </tr>\n",
       "    <tr>\n",
       "      <th>315350</th>\n",
       "      <td>Sensor</td>\n",
       "      <td>Int</td>\n",
       "      <td>Light Array Emitter 1 (Value)</td>\n",
       "      <td>0</td>\n",
       "      <td>192</td>\n",
       "      <td>2110.41700</td>\n",
       "      <td>192.0</td>\n",
       "      <td>On</td>\n",
       "      <td>7.16400</td>\n",
       "    </tr>\n",
       "    <tr>\n",
       "      <th>316040</th>\n",
       "      <td>Sensor</td>\n",
       "      <td>Int</td>\n",
       "      <td>Light Array Emitter 1 (Value)</td>\n",
       "      <td>0</td>\n",
       "      <td>192</td>\n",
       "      <td>2114.99900</td>\n",
       "      <td>192.0</td>\n",
       "      <td>On</td>\n",
       "      <td>4.58200</td>\n",
       "    </tr>\n",
       "  </tbody>\n",
       "</table>\n",
       "<p>400 rows × 9 columns</p>\n",
       "</div>"
      ],
      "text/plain": [
       "       Sensor/Actuator  Data Type                           Name   Address  \\\n",
       "2375            Sensor        Int  Light Array Emitter 1 (Value)         0   \n",
       "3065            Sensor        Int  Light Array Emitter 1 (Value)         0   \n",
       "3605            Sensor        Int  Light Array Emitter 1 (Value)         0   \n",
       "4640            Sensor        Int  Light Array Emitter 1 (Value)         0   \n",
       "5465            Sensor        Int  Light Array Emitter 1 (Value)         0   \n",
       "...                ...        ...                            ...       ...   \n",
       "312590          Sensor        Int  Light Array Emitter 1 (Value)         0   \n",
       "313595          Sensor        Int  Light Array Emitter 1 (Value)         0   \n",
       "314270          Sensor        Int  Light Array Emitter 1 (Value)         0   \n",
       "315350          Sensor        Int  Light Array Emitter 1 (Value)         0   \n",
       "316040          Sensor        Int  Light Array Emitter 1 (Value)         0   \n",
       "\n",
       "         Current Value   Time Elapsed   Sensor Value Difference  \\\n",
       "2375               192       21.54983                     192.0   \n",
       "3065               192       26.14976                     192.0   \n",
       "3605               192       29.74137                     192.0   \n",
       "4640               192       36.64146                     192.0   \n",
       "5465               192       42.13330                     192.0   \n",
       "...                ...            ...                       ...   \n",
       "312590             192     2092.08900                     192.0   \n",
       "313595             192     2098.76300                     192.0   \n",
       "314270             192     2103.25300                     192.0   \n",
       "315350             192     2110.41700                     192.0   \n",
       "316040             192     2114.99900                     192.0   \n",
       "\n",
       "       Trigger Status  Trigger Interval  \n",
       "2375               On           3.99994  \n",
       "3065               On           4.59993  \n",
       "3605               On           3.59161  \n",
       "4640               On           6.90009  \n",
       "5465               On           5.49184  \n",
       "...               ...               ...  \n",
       "312590             On           3.57800  \n",
       "313595             On           6.67400  \n",
       "314270             On           4.49000  \n",
       "315350             On           7.16400  \n",
       "316040             On           4.58200  \n",
       "\n",
       "[400 rows x 9 columns]"
      ]
     },
     "execution_count": 10,
     "metadata": {},
     "output_type": "execute_result"
    }
   ],
   "source": [
    "#using a copy to prevent index warning\n",
    "preprocessedDF = preprocessedDF.copy()\n",
    "preprocessedDF['Trigger Interval'] = preprocessedDF[\" Time Elapsed\"].diff(1)\n",
    "preprocessedDF.dropna(subset = ['Trigger Interval'], inplace=True)\n",
    "preprocessedDF"
   ]
  },
  {
   "cell_type": "code",
   "execution_count": 11,
   "metadata": {},
   "outputs": [
    {
     "data": {
      "text/plain": [
       "([], [])"
      ]
     },
     "execution_count": 11,
     "metadata": {},
     "output_type": "execute_result"
    },
    {
     "data": {
      "image/png": "[encoded data removed]",
      "text/plain": [
       "<Figure size 864x576 with 1 Axes>"
      ]
     },
     "metadata": {
      "needs_background": "light"
     },
     "output_type": "display_data"
    }
   ],
   "source": [
    "import seaborn as sns\n",
    "preprocessedDF=preprocessedDF.reset_index(drop=True)\n",
    "plt.figure(figsize=(12,8)) #Plotting the data points on the plot\n",
    "sns.stripplot(x='Trigger Interval',data = preprocessedDF,jitter= True,edgecolor = 'None')\n",
    "sns.despine\n",
    "locs,labels = plt.xticks()\n",
    "plt.yticks([])"
   ]
  },
  {
   "cell_type": "markdown",
   "metadata": {},
   "source": [
    "<h3 style=\"color:green;\">Using Jenks Natural Optimisation Method for finding the range <h3>\n",
    "<p style=\"font-weight: normal;\">The Jenks optimization method, also called the Jenks natural breaks classification method, is a data clustering method designed to determine the best arrangement of values into different classes.\n",
    "    </p>\n",
    "<p style=\"font-weight: normal;\">This is done by seeking to minimize each class's average deviation from the class mean, while maximizing each class's deviation from the means of the other classes.\n",
    "</p>"
   ]
  },
  {
   "cell_type": "code",
   "execution_count": 12,
   "metadata": {},
   "outputs": [],
   "source": [
    "import jenkspy\n",
    "#Finding the breaks using the Jenks natural breaks optimzation method\n",
    "breaks = jenkspy.jenks_breaks(preprocessedDF['Trigger Interval'],nb_class = 3)"
   ]
  },
  {
   "cell_type": "code",
   "execution_count": 13,
   "metadata": {},
   "outputs": [
    {
     "data": {
      "text/plain": [
       "[3.201000000000022, 4.515600000000006, 5.8250000000000455, 7.231999999999971]"
      ]
     },
     "execution_count": 13,
     "metadata": {},
     "output_type": "execute_result"
    }
   ],
   "source": [
    "breaks"
   ]
  },
  {
   "cell_type": "code",
   "execution_count": 14,
   "metadata": {},
   "outputs": [
    {
     "data": {
      "image/png": "[encoded data removed]",
      "text/plain": [
       "<Figure size 864x576 with 1 Axes>"
      ]
     },
     "metadata": {
      "needs_background": "light"
     },
     "output_type": "display_data"
    }
   ],
   "source": [
    "#seaborn library for plotting\n",
    "import seaborn as sns\n",
    "plt.figure(figsize=(12,8)) #Plotting the data points on the plot\n",
    "sns.stripplot(x='Trigger Interval',data = preprocessedDF,jitter= True,edgecolor = 'None')\n",
    "sns.despine\n",
    "locs,labels = plt.xticks()\n",
    "plt.yticks([])\n",
    "#Drawing vertical lines usng the data points as x values\n",
    "for b in breaks:\n",
    "    plt.vlines(b,ymin= -0.2,ymax=0.2,color='k')"
   ]
  },
  {
   "cell_type": "markdown",
   "metadata": {},
   "source": [
    "<h3 style=\"color:green;\">The boxplot shows the ideal range lies between 4.2 to 6.2 </h3>"
   ]
  },
  {
   "cell_type": "code",
   "execution_count": 15,
   "metadata": {},
   "outputs": [
    {
     "data": {
      "text/plain": [
       "<AxesSubplot:xlabel='Trigger Interval'>"
      ]
     },
     "execution_count": 15,
     "metadata": {},
     "output_type": "execute_result"
    },
    {
     "data": {
      "image/png": "[encoded data removed]",
      "text/plain": [
       "<Figure size 432x288 with 1 Axes>"
      ]
     },
     "metadata": {
      "needs_background": "light"
     },
     "output_type": "display_data"
    }
   ],
   "source": [
    "#Box plot\n",
    "import numpy as np\n",
    "sns.boxplot(x='Trigger Interval', data=preprocessedDF, whis=np.inf)"
   ]
  },
  {
   "cell_type": "code",
   "execution_count": 16,
   "metadata": {},
   "outputs": [
    {
     "data": {
      "image/png": "[encoded data removed]",
      "text/plain": [
       "<Figure size 432x288 with 1 Axes>"
      ]
     },
     "metadata": {
      "needs_background": "light"
     },
     "output_type": "display_data"
    }
   ],
   "source": [
    "array_list = []\n",
    "B = plt.boxplot(preprocessedDF['Trigger Interval'])\n",
    "[array_list.append(item.get_ydata()) for item in B['whiskers']]\n",
    "download_list = []\n",
    "for item in array_list:\n",
    "    download_list.append(item[0])"
   ]
  },
  {
   "cell_type": "code",
   "execution_count": 17,
   "metadata": {},
   "outputs": [],
   "source": [
    "import pickle\n",
    "filename = 'data/finalized_model.sav'\n",
    "pickle.dump(download_list, open(filename, 'wb'))"
   ]
  }
 ],
 "metadata": {
  "kernelspec": {
   "display_name": "Python 3",
   "language": "python",
   "name": "python3"
  },
  "language_info": {
   "codemirror_mode": {
    "name": "ipython",
    "version": 3
   },
   "file_extension": ".py",
   "mimetype": "text/x-python",
   "name": "python",
   "nbconvert_exporter": "python",
   "pygments_lexer": "ipython3",
   "version": "3.8.5"
  }
 },
 "nbformat": 4,
 "nbformat_minor": 4
}
