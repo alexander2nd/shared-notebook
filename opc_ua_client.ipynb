{
 "cells": [
  {
   "cell_type": "code",
   "execution_count": 2,
   "id": "korean-safety",
   "metadata": {},
   "outputs": [
    {
     "data": {
      "text/plain": [
       "2"
      ]
     },
     "execution_count": 2,
     "metadata": {},
     "output_type": "execute_result"
    }
   ],
   "source": [
    "from time import sleep\n",
    "import random\n",
    "from opcua import Server\n",
    "server = Server()\n",
    "server.set_endpoint(\"opc.tcp://127.0.0.1:12345\")\n",
    "server.register_namespace(\"Room1\")"
   ]
  },
  {
   "cell_type": "code",
   "execution_count": 3,
   "id": "cross-istanbul",
   "metadata": {},
   "outputs": [],
   "source": [
    "objects=server.get_objects_node()\n"
   ]
  },
  {
   "cell_type": "code",
   "execution_count": 4,
   "id": "entire-monday",
   "metadata": {},
   "outputs": [],
   "source": [
    "tempsensor = objects.add_object('ns=2;s=\"TS1\"', \"Temperature Sensor 1\")"
   ]
  },
  {
   "cell_type": "code",
   "execution_count": 5,
   "id": "demonstrated-least",
   "metadata": {},
   "outputs": [
    {
     "data": {
      "text/plain": [
       "Node(StringNodeId(ns=2;s=\"TS1_VendorName\"))"
      ]
     },
     "execution_count": 5,
     "metadata": {},
     "output_type": "execute_result"
    }
   ],
   "source": [
    "tempsensor.add_variable('ns=2;s=\"TS1_VendorName\"', \"Pilz\", \"A Temperature Sensor\")"
   ]
  },
  {
   "cell_type": "code",
   "execution_count": 6,
   "id": "nutritional-purchase",
   "metadata": {},
   "outputs": [
    {
     "data": {
      "text/plain": [
       "Node(StringNodeId(ns=2;s=\"TS1_SerialNumber\"))"
      ]
     },
     "execution_count": 6,
     "metadata": {},
     "output_type": "execute_result"
    }
   ],
   "source": [
    "tempsensor.add_variable('ns=2;s=\"TS1_SerialNumber\"', \"TS1 Serial Number\", \"481632\")"
   ]
  },
  {
   "cell_type": "code",
   "execution_count": 7,
   "id": "ready-layer",
   "metadata": {},
   "outputs": [],
   "source": [
    "tempsensor = tempsensor.add_variable('ns=2;s=\"TS1_Temperature\"', \"TS1 Temperature\", \"10\")"
   ]
  },
  {
   "cell_type": "code",
   "execution_count": 8,
   "id": "bridal-eugene",
   "metadata": {},
   "outputs": [
    {
     "name": "stdout",
     "output_type": "stream",
     "text": [
      "ns=2;i=1\n"
     ]
    }
   ],
   "source": [
    "#New Object\n",
    "bulb = objects.add_object_type(2, \"Light Bulb\")\n",
    "print(bulb)\n",
    "state = bulb.add_variable(2, \"Lightbulb State\", False)\n",
    "state.set_writable()"
   ]
  },
  {
   "cell_type": "code",
   "execution_count": 9,
   "id": "logical-damages",
   "metadata": {},
   "outputs": [],
   "source": [
    "temperature=20.0"
   ]
  },
  {
   "cell_type": "code",
   "execution_count": null,
   "id": "sorted-haven",
   "metadata": {},
   "outputs": [],
   "source": [
    "try:\n",
    "    print(\"Starting Server\")\n",
    "    server.start()\n",
    "    print(\"Server Online....\")\n",
    "    while True:\n",
    "        temperature += random.uniform(-1,1)\n",
    "        tempsensor.set_value(temperature)\n",
    "        print(\"New Temperature: \" +str(tempsensor.get_value()))\n",
    "        print(\"current state of lightbulb: \"+ str(state.get_value()))\n",
    "        sleep(2)\n",
    "finally:\n",
    "        server.stop()\n",
    "        print(\"Server Offline....\")"
   ]
  }
 ],
 "metadata": {
  "kernelspec": {
   "display_name": "Python 3",
   "language": "python",
   "name": "python3"
  },
  "language_info": {
   "codemirror_mode": {
    "name": "ipython",
    "version": 3
   },
   "file_extension": ".py",
   "mimetype": "text/x-python",
   "name": "python",
   "nbconvert_exporter": "python",
   "pygments_lexer": "ipython3",
   "version": "3.8.5"
  }
 },
 "nbformat": 4,
 "nbformat_minor": 5
}
