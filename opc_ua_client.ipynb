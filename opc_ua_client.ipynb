{
 "cells": [
  {
   "cell_type": "code",
   "execution_count": 2,
   "id": "korean-safety",
   "metadata": {},
   "outputs": [
    {
     "data": {
      "text/plain": [
       "2"
      ]
     },
     "execution_count": 2,
     "metadata": {},
     "output_type": "execute_result"
    }
   ],
   "source": [
    "from time import sleep\n",
    "import random\n",
    "from opcua import Server\n",
    "server = Server()\n",
    "server.set_endpoint(\"opc.tcp://127.0.0.1:12345\")\n",
    "server.register_namespace(\"Room1\")"
   ]
  },
  {
   "cell_type": "code",
   "execution_count": 3,
   "id": "cross-istanbul",
   "metadata": {},
   "outputs": [],
   "source": [
    "objects=server.get_objects_node()\n"
   ]
  },
  {
   "cell_type": "code",
   "execution_count": 4,
   "id": "entire-monday",
   "metadata": {},
   "outputs": [],
   "source": [
    "tempsensor = objects.add_object('ns=2;s=\"TS1\"', \"Temperature Sensor 1\")"
   ]
  },
  {
   "cell_type": "code",
   "execution_count": 5,
   "id": "demonstrated-least",
   "metadata": {},
   "outputs": [
    {
     "data": {
      "text/plain": [
       "Node(StringNodeId(ns=2;s=\"TS1_VendorName\"))"
      ]
     },
     "execution_count": 5,
     "metadata": {},
     "output_type": "execute_result"
    }
   ],
   "source": [
    "tempsensor.add_variable('ns=2;s=\"TS1_VendorName\"', \"Pilz\", \"A Temperature Sensor\")"
   ]
  },
  {
   "cell_type": "code",
   "execution_count": 6,
   "id": "nutritional-purchase",
   "metadata": {},
   "outputs": [
    {
     "data": {
      "text/plain": [
       "Node(StringNodeId(ns=2;s=\"TS1_SerialNumber\"))"
      ]
     },
     "execution_count": 6,
     "metadata": {},
     "output_type": "execute_result"
    }
   ],
   "source": [
    "tempsensor.add_variable('ns=2;s=\"TS1_SerialNumber\"', \"TS1 Serial Number\", \"481632\")"
   ]
  },
  {
   "cell_type": "code",
   "execution_count": 7,
   "id": "ready-layer",
   "metadata": {},
   "outputs": [],
   "source": [
    "tempsensor = tempsensor.add_variable('ns=2;s=\"TS1_Temperature\"', \"TS1 Temperature\", \"10\")"
   ]
  },
  {
   "cell_type": "code",
   "execution_count": 8,
   "id": "bridal-eugene",
   "metadata": {},
   "outputs": [
    {
     "name": "stdout",
     "output_type": "stream",
     "text": [
      "ns=2;i=1\n"
     ]
    }
   ],
   "source": [
    "#New Object\n",
    "bulb = objects.add_object_type(2, \"Light Bulb\")\n",
    "print(bulb)\n",
    "state = bulb.add_variable(2, \"Lightbulb State\", False)\n",
    "state.set_writable()"
   ]
  },
  {
   "cell_type": "code",
   "execution_count": 9,
   "id": "logical-damages",
   "metadata": {},
   "outputs": [],
   "source": [
    "temperature=20.0"
   ]
  },
  {
   "cell_type": "code",
   "execution_count": 10,
   "id": "centered-license",
   "metadata": {},
   "outputs": [
    {
     "name": "stderr",
     "output_type": "stream",
     "text": [
      "Endpoints other than open requested but private key and certificate are not set.\n",
      "Listening on 127.0.0.1:12345\n"
     ]
    },
    {
     "name": "stdout",
     "output_type": "stream",
     "text": [
      "Starting Server\n",
      "Server Online....\n",
      "New Temperature: 20.983599900778717\n",
      "current state of lightbulb: False\n",
      "New Temperature: 20.02794017582296\n",
      "current state of lightbulb: False\n",
      "New Temperature: 19.92333183390595\n",
      "current state of lightbulb: False\n",
      "New Temperature: 20.304647690791622\n",
      "current state of lightbulb: False\n",
      "New Temperature: 19.65864682204545\n",
      "current state of lightbulb: False\n",
      "New Temperature: 20.381220145186965\n",
      "current state of lightbulb: False\n",
      "New Temperature: 20.367058610013245\n",
      "current state of lightbulb: False\n",
      "New Temperature: 20.986279771062772\n",
      "current state of lightbulb: False\n",
      "New Temperature: 20.20395477471073\n",
      "current state of lightbulb: False\n",
      "New Temperature: 19.462198826504647\n",
      "current state of lightbulb: False\n",
      "New Temperature: 20.46106727416475\n",
      "current state of lightbulb: False\n",
      "New Temperature: 20.39636917007486\n",
      "current state of lightbulb: False\n",
      "New Temperature: 20.725446140560535\n",
      "current state of lightbulb: False\n",
      "New Temperature: 20.44958981470673\n",
      "current state of lightbulb: False\n",
      "New Temperature: 20.917344976070954\n",
      "current state of lightbulb: False\n",
      "New Temperature: 20.94211557807327\n",
      "current state of lightbulb: False\n",
      "New Temperature: 21.061248635917654\n",
      "current state of lightbulb: False\n",
      "New Temperature: 20.211176217973293\n",
      "current state of lightbulb: False\n",
      "Server Offline....\n"
     ]
    },
    {
     "ename": "KeyboardInterrupt",
     "evalue": "",
     "output_type": "error",
     "traceback": [
      "\u001b[1;31m---------------------------------------------------------------------------\u001b[0m",
      "\u001b[1;31mKeyboardInterrupt\u001b[0m                         Traceback (most recent call last)",
      "\u001b[1;32m<ipython-input-10-f6c3b9e311e1>\u001b[0m in \u001b[0;36m<module>\u001b[1;34m\u001b[0m\n\u001b[0;32m      8\u001b[0m         \u001b[0mprint\u001b[0m\u001b[1;33m(\u001b[0m\u001b[1;34m\"New Temperature: \"\u001b[0m \u001b[1;33m+\u001b[0m\u001b[0mstr\u001b[0m\u001b[1;33m(\u001b[0m\u001b[0mtempsensor\u001b[0m\u001b[1;33m.\u001b[0m\u001b[0mget_value\u001b[0m\u001b[1;33m(\u001b[0m\u001b[1;33m)\u001b[0m\u001b[1;33m)\u001b[0m\u001b[1;33m)\u001b[0m\u001b[1;33m\u001b[0m\u001b[1;33m\u001b[0m\u001b[0m\n\u001b[0;32m      9\u001b[0m         \u001b[0mprint\u001b[0m\u001b[1;33m(\u001b[0m\u001b[1;34m\"current state of lightbulb: \"\u001b[0m\u001b[1;33m+\u001b[0m \u001b[0mstr\u001b[0m\u001b[1;33m(\u001b[0m\u001b[0mstate\u001b[0m\u001b[1;33m.\u001b[0m\u001b[0mget_value\u001b[0m\u001b[1;33m(\u001b[0m\u001b[1;33m)\u001b[0m\u001b[1;33m)\u001b[0m\u001b[1;33m)\u001b[0m\u001b[1;33m\u001b[0m\u001b[1;33m\u001b[0m\u001b[0m\n\u001b[1;32m---> 10\u001b[1;33m         \u001b[0msleep\u001b[0m\u001b[1;33m(\u001b[0m\u001b[1;36m2\u001b[0m\u001b[1;33m)\u001b[0m\u001b[1;33m\u001b[0m\u001b[1;33m\u001b[0m\u001b[0m\n\u001b[0m\u001b[0;32m     11\u001b[0m \u001b[1;32mfinally\u001b[0m\u001b[1;33m:\u001b[0m\u001b[1;33m\u001b[0m\u001b[1;33m\u001b[0m\u001b[0m\n\u001b[0;32m     12\u001b[0m         \u001b[0mserver\u001b[0m\u001b[1;33m.\u001b[0m\u001b[0mstop\u001b[0m\u001b[1;33m(\u001b[0m\u001b[1;33m)\u001b[0m\u001b[1;33m\u001b[0m\u001b[1;33m\u001b[0m\u001b[0m\n",
      "\u001b[1;31mKeyboardInterrupt\u001b[0m: "
     ]
    }
   ],
   "source": [
    "try:\n",
    "    print(\"Starting Server\")\n",
    "    server.start()\n",
    "    print(\"Server Online....\")\n",
    "    while True:\n",
    "        temperature += random.uniform(-1,1)\n",
    "        tempsensor.set_value(temperature)\n",
    "        print(\"New Temperature: \" +str(tempsensor.get_value()))\n",
    "        print(\"current state of lightbulb: \"+ str(state.get_value()))\n",
    "        sleep(2)\n",
    "finally:\n",
    "        server.stop()\n",
    "        print(\"Server Offline....\")"
   ]
  },
  {
   "cell_type": "code",
   "execution_count": null,
   "id": "sorted-haven",
   "metadata": {},
   "outputs": [],
   "source": []
  }
 ],
 "metadata": {
  "kernelspec": {
   "display_name": "Python 3",
   "language": "python",
   "name": "python3"
  },
  "language_info": {
   "codemirror_mode": {
    "name": "ipython",
    "version": 3
   },
   "file_extension": ".py",
   "mimetype": "text/x-python",
   "name": "python",
   "nbconvert_exporter": "python",
   "pygments_lexer": "ipython3",
   "version": "3.8.5"
  }
 },
 "nbformat": 4,
 "nbformat_minor": 5
}
