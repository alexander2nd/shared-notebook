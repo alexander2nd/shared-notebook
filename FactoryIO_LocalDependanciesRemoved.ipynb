{
 "cells": [
  {
   "cell_type": "code",
   "execution_count": null,
   "id": "international-houston",
   "metadata": {},
   "outputs": [],
   "source": [
    "%matplotlib inline\n",
    "import pandas as pd\n",
    "import matplotlib.pyplot as plt"
   ]
  },
  {
   "cell_type": "code",
   "execution_count": null,
   "id": "favorite-request",
   "metadata": {},
   "outputs": [],
   "source": [
    "import zipfile\n",
    "from zipfile import ZipFile"
   ]
  },
  {
   "cell_type": "code",
   "execution_count": null,
   "id": "frequent-squad",
   "metadata": {},
   "outputs": [],
   "source": [
    "file_name = \"data/moving2.zip\""
   ]
  },
  {
   "cell_type": "code",
   "execution_count": null,
   "id": "returning-anaheim",
   "metadata": {},
   "outputs": [],
   "source": [
    "with ZipFile(file_name, 'r') as zip:\n",
    "    # printing all the contents of the zip file\n",
    "    zip.printdir()"
   ]
  },
  {
   "cell_type": "code",
   "execution_count": null,
   "id": "requested-safety",
   "metadata": {},
   "outputs": [],
   "source": [
    "#Importing the csv file created in factory io\n",
    "data = pd.read_csv('data/moving2.zip')\n",
    "df = pd.DataFrame(data)"
   ]
  },
  {
   "cell_type": "code",
   "execution_count": null,
   "id": "relative-japanese",
   "metadata": {},
   "outputs": [],
   "source": [
    "#Check data is imported\n",
    "df.head(20)"
   ]
  },
  {
   "cell_type": "code",
   "execution_count": null,
   "id": "conditional-drawing",
   "metadata": {},
   "outputs": [],
   "source": [
    "#Subseting all Light Array Emitter data\n",
    "#using a copy to prevent index warning\n",
    "filteredLAE = df[df[' Name']=='Light Array Emitter 1 (Value)']\n",
    "#converting the current value column to numeric\n",
    "filteredLAE = filteredLAE.copy()\n",
    "filteredLAE[' Current Value'] = pd.to_numeric(filteredLAE[' Current Value'])"
   ]
  },
  {
   "cell_type": "code",
   "execution_count": null,
   "id": "fatty-copying",
   "metadata": {},
   "outputs": [],
   "source": [
    "filteredLAE[' Sensor Value Difference'] = filteredLAE[' Current Value'].diff()\n",
    "filteredLAE"
   ]
  },
  {
   "cell_type": "code",
   "execution_count": null,
   "id": "elegant-obligation",
   "metadata": {},
   "outputs": [],
   "source": [
    "#filteredLAE.to_csv (r'C:\\Users\\a.sethu\\Desktop\\Python\\export.csv', index = False, header=True)"
   ]
  },
  {
   "cell_type": "code",
   "execution_count": null,
   "id": "informational-cowboy",
   "metadata": {},
   "outputs": [],
   "source": [
    "#Filtering sensor trigger data points from the data by removing \n",
    "#all all data with current value = 0\n",
    "filteredLAE = filteredLAE[filteredLAE[' Sensor Value Difference'] != 0]\n",
    "filteredLAE = filteredLAE[filteredLAE[' Current Value']!=128 ]\n",
    "filteredLAE = filteredLAE[filteredLAE[' Current Value']!=64 ]\n",
    "#Dropping al NaN values\n",
    "filteredLAE.dropna(subset = [' Sensor Value Difference'], inplace=True)\n",
    "filteredLAE"
   ]
  },
  {
   "cell_type": "code",
   "execution_count": null,
   "id": "sonic-cambodia",
   "metadata": {},
   "outputs": [],
   "source": [
    "filteredLAE=filteredLAE.copy()\n",
    "filteredLAE[filteredLAE[' Sensor Value Difference'] > 0]\n",
    "filteredLAE['Trigger Status']=\"Off\"\n",
    "filteredLAE['Trigger Status'] = filteredLAE.apply(lambda x: 'On' if x[' Sensor Value Difference']>0 else 'Off',axis=1)"
   ]
  },
  {
   "cell_type": "code",
   "execution_count": null,
   "id": "steady-headset",
   "metadata": {},
   "outputs": [],
   "source": [
    "filteredLAE['Trigger Interval'] = filteredLAE[\" Time Elapsed\"].diff(1)"
   ]
  },
  {
   "cell_type": "code",
   "execution_count": null,
   "id": "naval-liberal",
   "metadata": {},
   "outputs": [],
   "source": [
    "preprocessedDF = filteredLAE[filteredLAE['Trigger Status']=='On']"
   ]
  },
  {
   "cell_type": "code",
   "execution_count": null,
   "id": "mineral-newsletter",
   "metadata": {},
   "outputs": [],
   "source": [
    "preprocessedDF = preprocessedDF.copy()\n",
    "preprocessedDF['Trigger Interval'] = preprocessedDF[\" Time Elapsed\"].diff(1)\n",
    "preprocessedDF.dropna(subset = ['Trigger Interval'], inplace=True)\n",
    "preprocessedDF"
   ]
  },
  {
   "cell_type": "code",
   "execution_count": null,
   "id": "paperback-jonathan",
   "metadata": {},
   "outputs": [],
   "source": [
    "import seaborn as sns\n",
    "preprocessedDF=preprocessedDF.reset_index(drop=True)\n",
    "plt.figure(figsize=(12,8)) #Plotting the data points on the plot\n",
    "sns.stripplot(x='Trigger Interval',data = preprocessedDF,jitter= True,edgecolor = 'None')\n",
    "sns.despine\n",
    "locs,labels = plt.xticks()\n",
    "plt.yticks([])"
   ]
  },
  {
   "cell_type": "code",
   "execution_count": null,
   "id": "following-possibility",
   "metadata": {},
   "outputs": [],
   "source": [
    "import jenkspy\n",
    "#Finding the breaks using the Jenks natural breaks optimzation method\n",
    "breaks = jenkspy.jenks_breaks(preprocessedDF['Trigger Interval'],nb_class = 3)"
   ]
  },
  {
   "cell_type": "code",
   "execution_count": null,
   "id": "impressive-discovery",
   "metadata": {},
   "outputs": [],
   "source": [
    "#show ranges\n",
    "breaks"
   ]
  },
  {
   "cell_type": "code",
   "execution_count": null,
   "id": "overhead-hydrogen",
   "metadata": {},
   "outputs": [],
   "source": [
    "#Box plot\n",
    "import numpy as np\n",
    "sns.boxplot(x='Trigger Interval', data=preprocessedDF, whis=np.inf)"
   ]
  },
  {
   "cell_type": "code",
   "execution_count": null,
   "id": "identified-jungle",
   "metadata": {},
   "outputs": [],
   "source": [
    "#All code below this is tp be ignored was used only for research purposes\n",
    "#Removing data outside the range of3.8 to 8.7 for testing purposes\n",
    "dumydata = preprocessedDF[preprocessedDF['Trigger Interval']>3.8]\n",
    "dumydata = dumydata[dumydata['Trigger Interval']<8.7]"
   ]
  },
  {
   "cell_type": "code",
   "execution_count": null,
   "id": "empirical-palestine",
   "metadata": {},
   "outputs": [],
   "source": [
    "dummydata=dummydata.reset_index(drop=True)\n",
    "import jenkspy\n",
    "#Finding the breaks using the Jenks natural breaks optimzation method\n",
    "breaks = jenkspy.jenks_breaks(dummydata['Trigger Interval'],nb_class = 3)\n",
    "#seaborn library for plotting\n",
    "import seaborn as sns\n",
    "plt.figure(figsize=(12,8)) #Plotting the data points on the plot\n",
    "sns.stripplot(x='Trigger Interval',data = dummydata,jitter= True,edgecolor = 'None')\n",
    "sns.despine\n",
    "locs,labels = plt.xticks()\n",
    "plt.yticks([])\n",
    "#Drawing vertical lines usng the data points as x values\n",
    "for b in breaks:\n",
    "    plt.vlines(b,ymin= -0.2,ymax=0.2)"
   ]
  }
 ],
 "metadata": {
  "kernelspec": {
   "display_name": "Python 3",
   "language": "python",
   "name": "python3"
  },
  "language_info": {
   "codemirror_mode": {
    "name": "ipython",
    "version": 3
   },
   "file_extension": ".py",
   "mimetype": "text/x-python",
   "name": "python",
   "nbconvert_exporter": "python",
   "pygments_lexer": "ipython3",
   "version": "3.8.5"
  }
 },
 "nbformat": 4,
 "nbformat_minor": 5
}
