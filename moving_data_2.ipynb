{
 "cells": [
  {
   "cell_type": "code",
   "execution_count": null,
   "id": "photographic-revision",
   "metadata": {},
   "outputs": [],
   "source": [
    "%matplotlib inline\n",
    "import pandas as pd\n",
    "import matplotlib.pyplot as plt"
   ]
  },
  {
   "cell_type": "code",
   "execution_count": null,
   "id": "stretch-pilot",
   "metadata": {},
   "outputs": [],
   "source": [
    "data = pd.read_csv('C:/Users/A.OConnell/Desktop/moving2.csv')\n",
    "df = pd.DataFrame(data)"
   ]
  },
  {
   "cell_type": "code",
   "execution_count": null,
   "id": "aerial-campbell",
   "metadata": {},
   "outputs": [],
   "source": [
    "#Lists all columns in dataframe\n",
    "list(df)"
   ]
  },
  {
   "cell_type": "code",
   "execution_count": null,
   "id": "legal-montreal",
   "metadata": {},
   "outputs": [],
   "source": [
    "#Returns the first 5 rows of the dataframe by default\n",
    "#Insert a value between the parenthesis to change the number of rows returned. \n",
    "#Example: df. head(10) will return 10 rows\n",
    "df.head()"
   ]
  },
  {
   "cell_type": "code",
   "execution_count": null,
   "id": "commercial-neighborhood",
   "metadata": {},
   "outputs": [],
   "source": [
    "#No. of Rows ~ No. of Features\n",
    "print(data.shape)"
   ]
  },
  {
   "cell_type": "code",
   "execution_count": null,
   "id": "isolated-thomson",
   "metadata": {},
   "outputs": [],
   "source": [
    "#Get Column Names for Data\n",
    "list(data.columns) "
   ]
  },
  {
   "cell_type": "code",
   "execution_count": null,
   "id": "infinite-stomach",
   "metadata": {},
   "outputs": [],
   "source": [
    "#Remove Spaces from Column Names\n",
    "df.columns = df.columns.str.replace(' ', '') "
   ]
  },
  {
   "cell_type": "code",
   "execution_count": null,
   "id": "level-involvement",
   "metadata": {},
   "outputs": [],
   "source": [
    "#Get Column Names for Data with Spaces Removed\n",
    "list(data.columns)"
   ]
  },
  {
   "cell_type": "code",
   "execution_count": null,
   "id": "promising-narrative",
   "metadata": {},
   "outputs": [],
   "source": [
    "#Show the data frame info\n",
    "print(data.info())"
   ]
  },
  {
   "cell_type": "code",
   "execution_count": null,
   "id": "indian-cutting",
   "metadata": {},
   "outputs": [],
   "source": [
    "# Show Unique Values for a Column Name(White Space Matters!)\n",
    "data['Name'].unique()"
   ]
  },
  {
   "cell_type": "code",
   "execution_count": null,
   "id": "reserved-malawi",
   "metadata": {},
   "outputs": [],
   "source": [
    "data['TimeElapsed'].unique()"
   ]
  },
  {
   "cell_type": "code",
   "execution_count": null,
   "id": "cognitive-commonwealth",
   "metadata": {},
   "outputs": [],
   "source": [
    "# Limit data by Column Names\n",
    "newdf = df.loc[df.Name=='Light Array Emitter 1 (Value)','CurrentValue':'TimeElapsed']"
   ]
  },
  {
   "cell_type": "code",
   "execution_count": null,
   "id": "stainless-ensemble",
   "metadata": {},
   "outputs": [],
   "source": [
    "newdf.head(200)"
   ]
  },
  {
   "cell_type": "code",
   "execution_count": null,
   "id": "lucky-karaoke",
   "metadata": {},
   "outputs": [],
   "source": [
    "#Export New DataFrame to .csv file\n",
    "#Remove parameter index = False if you want to include the index\n",
    "newdf.to_csv(r'C:/Users/A.OConnell/Desktop/reducedmoving2.csv', index = False)"
   ]
  },
  {
   "cell_type": "code",
   "execution_count": null,
   "id": "close-sheep",
   "metadata": {},
   "outputs": [],
   "source": []
  }
 ],
 "metadata": {
  "kernelspec": {
   "display_name": "Python 3",
   "language": "python",
   "name": "python3"
  },
  "language_info": {
   "codemirror_mode": {
    "name": "ipython",
    "version": 3
   },
   "file_extension": ".py",
   "mimetype": "text/x-python",
   "name": "python",
   "nbconvert_exporter": "python",
   "pygments_lexer": "ipython3",
   "version": "3.8.5"
  }
 },
 "nbformat": 4,
 "nbformat_minor": 5
}
